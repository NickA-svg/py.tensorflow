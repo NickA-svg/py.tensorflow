{
 "cells": [
  {
   "cell_type": "code",
   "execution_count": 1,
   "metadata": {},
   "outputs": [],
   "source": [
    "import os\n",
    "import shutil\n",
    "\n",
    "import tensorflow as tf\n",
    "import tensorflow_hub as hub\n",
    "import tensorflow_text as text\n",
    "from official.nlp import optimization\n",
    "from dotenv import load_dotenv\n",
    "load_dotenv()\n",
    "\n",
    "import matplotlib.pyplot as plt"
   ]
  },
  {
   "cell_type": "markdown",
   "metadata": {},
   "source": [
    "# Load Data from AT"
   ]
  },
  {
   "cell_type": "code",
   "execution_count": 2,
   "metadata": {},
   "outputs": [],
   "source": [
    "from airtable import airtable\n",
    "at = airtable.Airtable(os.getenv('AIRTABLE_BASE_ID'), os.getenv('AIRTABLE_API_KEY'))\n",
    "records = at.get('RSS_feed')"
   ]
  },
  {
   "cell_type": "code",
   "execution_count": 3,
   "metadata": {},
   "outputs": [
    {
     "data": {
      "text/plain": [
       "'itrfEgPVpnHCmuUOe/rec2JB6lrFvsHJIny'"
      ]
     },
     "execution_count": 3,
     "metadata": {},
     "output_type": "execute_result"
    }
   ],
   "source": [
    "records['offset']"
   ]
  },
  {
   "cell_type": "code",
   "execution_count": 4,
   "metadata": {},
   "outputs": [],
   "source": [
    "import requests\n",
    "base_id = os.getenv('AIRTABLE_BASE_ID')\n",
    "table_name = \"RSS_feed\"\n",
    "url = \"https://api.airtable.com/v0/\" + base_id + \"/\" + table_name\n",
    "api_key = os.getenv('AIRTABLE_API_KEY')\n",
    "headers = {\"Authorization\": \"Bearer \" + api_key}\n",
    "params = ()\n",
    "response = requests.get(url, params=params, headers=headers)"
   ]
  },
  {
   "cell_type": "code",
   "execution_count": 5,
   "metadata": {},
   "outputs": [],
   "source": [
    "params = ()\n",
    "airtable_records = []\n",
    "run = True\n",
    "while run is True:\n",
    "  response = requests.get(url, params=params, headers=headers)\n",
    "  airtable_response = response.json()\n",
    "  airtable_records += (airtable_response['records'])\n",
    "  if \"offset\" in airtable_response:\n",
    "     run = True\n",
    "     params = ((\"offset\", airtable_response[\"offset\"]),)\n",
    "  else:\n",
    "     run = False"
   ]
  },
  {
   "cell_type": "code",
   "execution_count": 6,
   "metadata": {},
   "outputs": [
    {
     "data": {
      "text/html": [
       "<div>\n",
       "<style scoped>\n",
       "    .dataframe tbody tr th:only-of-type {\n",
       "        vertical-align: middle;\n",
       "    }\n",
       "\n",
       "    .dataframe tbody tr th {\n",
       "        vertical-align: top;\n",
       "    }\n",
       "\n",
       "    .dataframe thead th {\n",
       "        text-align: right;\n",
       "    }\n",
       "</style>\n",
       "<table border=\"1\" class=\"dataframe\">\n",
       "  <thead>\n",
       "    <tr style=\"text-align: right;\">\n",
       "      <th></th>\n",
       "      <th>summary</th>\n",
       "      <th>title</th>\n",
       "      <th>sentiment</th>\n",
       "      <th>link</th>\n",
       "      <th>date</th>\n",
       "      <th>score</th>\n",
       "    </tr>\n",
       "  </thead>\n",
       "  <tbody>\n",
       "    <tr>\n",
       "      <th>rec006zxjRZxyc6WG</th>\n",
       "      <td>Responding to extreme drought conditions in pa...</td>\n",
       "      <td>Extreme Drought in U.S. Prompts Emergency Crop...</td>\n",
       "      <td>Negative</td>\n",
       "      <td>https://www.insurancejournal.com/news/midwest/...</td>\n",
       "      <td>2021-07-14</td>\n",
       "      <td>NaN</td>\n",
       "    </tr>\n",
       "    <tr>\n",
       "      <th>rec04UtXlR9M0jFeQ</th>\n",
       "      <td>Marsh has partnered with banking group Citi to...</td>\n",
       "      <td>Marsh and Citi develop non-payment cover for g...</td>\n",
       "      <td>Negative</td>\n",
       "      <td>https://www.theinsurer.com/news/marsh-and-citi...</td>\n",
       "      <td>2021-08-17</td>\n",
       "      <td>-1.0</td>\n",
       "    </tr>\n",
       "    <tr>\n",
       "      <th>rec05LJRftoFL6TG2</th>\n",
       "      <td>BRASILIA – A regional labor judge has ordered ...</td>\n",
       "      <td>Brazil Judge Orders Vale to Pay Damages to Fam...</td>\n",
       "      <td>Negative</td>\n",
       "      <td>https://www.insurancejournal.com/news/internat...</td>\n",
       "      <td>2021-06-11</td>\n",
       "      <td>NaN</td>\n",
       "    </tr>\n",
       "    <tr>\n",
       "      <th>rec06Z0QDazShds1T</th>\n",
       "      <td>Reich is on track to hit its £100m of gross wr...</td>\n",
       "      <td>Reich targeting £120m GWP within five years</td>\n",
       "      <td>Negative</td>\n",
       "      <td>https://www.postonline.co.uk/broker/7833966/re...</td>\n",
       "      <td>2021-05-17</td>\n",
       "      <td>NaN</td>\n",
       "    </tr>\n",
       "    <tr>\n",
       "      <th>rec07RecP5xnnSbrC</th>\n",
       "      <td>The CEO also pledged revived investment in gro...</td>\n",
       "      <td>Willis CEO Haley confirms year-end retirement</td>\n",
       "      <td>Negative</td>\n",
       "      <td>https://www.insuranceinsider.com/article/28vlg...</td>\n",
       "      <td>2021-08-03</td>\n",
       "      <td>NaN</td>\n",
       "    </tr>\n",
       "  </tbody>\n",
       "</table>\n",
       "</div>"
      ],
      "text/plain": [
       "                                                             summary  \\\n",
       "rec006zxjRZxyc6WG  Responding to extreme drought conditions in pa...   \n",
       "rec04UtXlR9M0jFeQ  Marsh has partnered with banking group Citi to...   \n",
       "rec05LJRftoFL6TG2  BRASILIA – A regional labor judge has ordered ...   \n",
       "rec06Z0QDazShds1T  Reich is on track to hit its £100m of gross wr...   \n",
       "rec07RecP5xnnSbrC  The CEO also pledged revived investment in gro...   \n",
       "\n",
       "                                                               title  \\\n",
       "rec006zxjRZxyc6WG  Extreme Drought in U.S. Prompts Emergency Crop...   \n",
       "rec04UtXlR9M0jFeQ  Marsh and Citi develop non-payment cover for g...   \n",
       "rec05LJRftoFL6TG2  Brazil Judge Orders Vale to Pay Damages to Fam...   \n",
       "rec06Z0QDazShds1T        Reich targeting £120m GWP within five years   \n",
       "rec07RecP5xnnSbrC      Willis CEO Haley confirms year-end retirement   \n",
       "\n",
       "                  sentiment  \\\n",
       "rec006zxjRZxyc6WG  Negative   \n",
       "rec04UtXlR9M0jFeQ  Negative   \n",
       "rec05LJRftoFL6TG2  Negative   \n",
       "rec06Z0QDazShds1T  Negative   \n",
       "rec07RecP5xnnSbrC  Negative   \n",
       "\n",
       "                                                                link  \\\n",
       "rec006zxjRZxyc6WG  https://www.insurancejournal.com/news/midwest/...   \n",
       "rec04UtXlR9M0jFeQ  https://www.theinsurer.com/news/marsh-and-citi...   \n",
       "rec05LJRftoFL6TG2  https://www.insurancejournal.com/news/internat...   \n",
       "rec06Z0QDazShds1T  https://www.postonline.co.uk/broker/7833966/re...   \n",
       "rec07RecP5xnnSbrC  https://www.insuranceinsider.com/article/28vlg...   \n",
       "\n",
       "                         date  score  \n",
       "rec006zxjRZxyc6WG  2021-07-14    NaN  \n",
       "rec04UtXlR9M0jFeQ  2021-08-17   -1.0  \n",
       "rec05LJRftoFL6TG2  2021-06-11    NaN  \n",
       "rec06Z0QDazShds1T  2021-05-17    NaN  \n",
       "rec07RecP5xnnSbrC  2021-08-03    NaN  "
      ]
     },
     "execution_count": 6,
     "metadata": {},
     "output_type": "execute_result"
    }
   ],
   "source": [
    "import pandas as pd\n",
    "airtable_records\n",
    "airtable_rows = [] \n",
    "airtable_index = []\n",
    "for record in airtable_records:\n",
    "    airtable_rows.append(record['fields'])\n",
    "    airtable_index.append(record['id'])\n",
    "df = pd.DataFrame(airtable_rows, index=airtable_index)\n",
    "\n",
    "df.head()"
   ]
  },
  {
   "cell_type": "code",
   "execution_count": 7,
   "metadata": {},
   "outputs": [],
   "source": [
    "df['sentiment']=df['sentiment'].replace({'Negative':0,'Neutral':1,'Positive':2})"
   ]
  },
  {
   "cell_type": "code",
   "execution_count": 8,
   "metadata": {},
   "outputs": [
    {
     "data": {
      "text/html": [
       "<div>\n",
       "<style scoped>\n",
       "    .dataframe tbody tr th:only-of-type {\n",
       "        vertical-align: middle;\n",
       "    }\n",
       "\n",
       "    .dataframe tbody tr th {\n",
       "        vertical-align: top;\n",
       "    }\n",
       "\n",
       "    .dataframe thead th {\n",
       "        text-align: right;\n",
       "    }\n",
       "</style>\n",
       "<table border=\"1\" class=\"dataframe\">\n",
       "  <thead>\n",
       "    <tr style=\"text-align: right;\">\n",
       "      <th></th>\n",
       "      <th>summary</th>\n",
       "      <th>title</th>\n",
       "      <th>sentiment</th>\n",
       "      <th>link</th>\n",
       "      <th>date</th>\n",
       "      <th>score</th>\n",
       "    </tr>\n",
       "  </thead>\n",
       "  <tbody>\n",
       "    <tr>\n",
       "      <th>rec006zxjRZxyc6WG</th>\n",
       "      <td>Responding to extreme drought conditions in pa...</td>\n",
       "      <td>Extreme Drought in U.S. Prompts Emergency Crop...</td>\n",
       "      <td>0</td>\n",
       "      <td>https://www.insurancejournal.com/news/midwest/...</td>\n",
       "      <td>2021-07-14</td>\n",
       "      <td>NaN</td>\n",
       "    </tr>\n",
       "    <tr>\n",
       "      <th>rec04UtXlR9M0jFeQ</th>\n",
       "      <td>Marsh has partnered with banking group Citi to...</td>\n",
       "      <td>Marsh and Citi develop non-payment cover for g...</td>\n",
       "      <td>0</td>\n",
       "      <td>https://www.theinsurer.com/news/marsh-and-citi...</td>\n",
       "      <td>2021-08-17</td>\n",
       "      <td>-1.0</td>\n",
       "    </tr>\n",
       "    <tr>\n",
       "      <th>rec05LJRftoFL6TG2</th>\n",
       "      <td>BRASILIA – A regional labor judge has ordered ...</td>\n",
       "      <td>Brazil Judge Orders Vale to Pay Damages to Fam...</td>\n",
       "      <td>0</td>\n",
       "      <td>https://www.insurancejournal.com/news/internat...</td>\n",
       "      <td>2021-06-11</td>\n",
       "      <td>NaN</td>\n",
       "    </tr>\n",
       "    <tr>\n",
       "      <th>rec06Z0QDazShds1T</th>\n",
       "      <td>Reich is on track to hit its £100m of gross wr...</td>\n",
       "      <td>Reich targeting £120m GWP within five years</td>\n",
       "      <td>0</td>\n",
       "      <td>https://www.postonline.co.uk/broker/7833966/re...</td>\n",
       "      <td>2021-05-17</td>\n",
       "      <td>NaN</td>\n",
       "    </tr>\n",
       "    <tr>\n",
       "      <th>rec07RecP5xnnSbrC</th>\n",
       "      <td>The CEO also pledged revived investment in gro...</td>\n",
       "      <td>Willis CEO Haley confirms year-end retirement</td>\n",
       "      <td>0</td>\n",
       "      <td>https://www.insuranceinsider.com/article/28vlg...</td>\n",
       "      <td>2021-08-03</td>\n",
       "      <td>NaN</td>\n",
       "    </tr>\n",
       "  </tbody>\n",
       "</table>\n",
       "</div>"
      ],
      "text/plain": [
       "                                                             summary  \\\n",
       "rec006zxjRZxyc6WG  Responding to extreme drought conditions in pa...   \n",
       "rec04UtXlR9M0jFeQ  Marsh has partnered with banking group Citi to...   \n",
       "rec05LJRftoFL6TG2  BRASILIA – A regional labor judge has ordered ...   \n",
       "rec06Z0QDazShds1T  Reich is on track to hit its £100m of gross wr...   \n",
       "rec07RecP5xnnSbrC  The CEO also pledged revived investment in gro...   \n",
       "\n",
       "                                                               title  \\\n",
       "rec006zxjRZxyc6WG  Extreme Drought in U.S. Prompts Emergency Crop...   \n",
       "rec04UtXlR9M0jFeQ  Marsh and Citi develop non-payment cover for g...   \n",
       "rec05LJRftoFL6TG2  Brazil Judge Orders Vale to Pay Damages to Fam...   \n",
       "rec06Z0QDazShds1T        Reich targeting £120m GWP within five years   \n",
       "rec07RecP5xnnSbrC      Willis CEO Haley confirms year-end retirement   \n",
       "\n",
       "                   sentiment  \\\n",
       "rec006zxjRZxyc6WG          0   \n",
       "rec04UtXlR9M0jFeQ          0   \n",
       "rec05LJRftoFL6TG2          0   \n",
       "rec06Z0QDazShds1T          0   \n",
       "rec07RecP5xnnSbrC          0   \n",
       "\n",
       "                                                                link  \\\n",
       "rec006zxjRZxyc6WG  https://www.insurancejournal.com/news/midwest/...   \n",
       "rec04UtXlR9M0jFeQ  https://www.theinsurer.com/news/marsh-and-citi...   \n",
       "rec05LJRftoFL6TG2  https://www.insurancejournal.com/news/internat...   \n",
       "rec06Z0QDazShds1T  https://www.postonline.co.uk/broker/7833966/re...   \n",
       "rec07RecP5xnnSbrC  https://www.insuranceinsider.com/article/28vlg...   \n",
       "\n",
       "                         date  score  \n",
       "rec006zxjRZxyc6WG  2021-07-14    NaN  \n",
       "rec04UtXlR9M0jFeQ  2021-08-17   -1.0  \n",
       "rec05LJRftoFL6TG2  2021-06-11    NaN  \n",
       "rec06Z0QDazShds1T  2021-05-17    NaN  \n",
       "rec07RecP5xnnSbrC  2021-08-03    NaN  "
      ]
     },
     "execution_count": 8,
     "metadata": {},
     "output_type": "execute_result"
    }
   ],
   "source": [
    "df.head()"
   ]
  },
  {
   "cell_type": "markdown",
   "metadata": {},
   "source": [
    "## Create train, test and val dataframes"
   ]
  },
  {
   "cell_type": "code",
   "execution_count": 9,
   "metadata": {},
   "outputs": [
    {
     "name": "stdout",
     "output_type": "stream",
     "text": [
      "2669 training examples\n",
      "334 validation examples\n",
      "334 test examples\n"
     ]
    }
   ],
   "source": [
    "import numpy as np\n",
    "train, val, test = np.split(df.sample(frac=1), [int(0.8*len(df)), int(0.9*len(df))])\n",
    "print(len(train), 'training examples')\n",
    "print(len(val), 'validation examples')\n",
    "print(len(test), 'test examples')"
   ]
  },
  {
   "cell_type": "markdown",
   "metadata": {},
   "source": [
    "## Prepare tf datasets"
   ]
  },
  {
   "cell_type": "code",
   "execution_count": 10,
   "metadata": {},
   "outputs": [],
   "source": [
    "def df_to_dataset(dataframe, shuffle=True, batch_size=32):\n",
    "  df = dataframe.copy()\n",
    "  labels = df.pop('sentiment')\n",
    "  df = {key: value[:,tf.newaxis] for key, value in dataframe.items()}\n",
    "  ds = tf.data.Dataset.from_tensor_slices((dict(df), labels))\n",
    "  if shuffle:\n",
    "    ds = ds.shuffle(buffer_size=len(dataframe))\n",
    "  ds = ds.batch(batch_size)\n",
    "  ds = ds.prefetch(batch_size)\n",
    "  return ds"
   ]
  },
  {
   "cell_type": "code",
   "execution_count": 11,
   "metadata": {},
   "outputs": [
    {
     "name": "stderr",
     "output_type": "stream",
     "text": [
      "/var/folders/86/_czxb88d1vs6dlr9r1cb7mh80000gn/T/ipykernel_39002/2714832384.py:4: FutureWarning: Support for multi-dimensional indexing (e.g. `obj[:, None]`) is deprecated and will be removed in a future version.  Convert to a numpy array before indexing instead.\n",
      "  df = {key: value[:,tf.newaxis] for key, value in dataframe.items()}\n",
      "2021-11-09 10:48:30.682455: I tensorflow/core/platform/cpu_feature_guard.cc:142] This TensorFlow binary is optimized with oneAPI Deep Neural Network Library (oneDNN) to use the following CPU instructions in performance-critical operations:  AVX2 FMA\n",
      "To enable them in other operations, rebuild TensorFlow with the appropriate compiler flags.\n"
     ]
    }
   ],
   "source": [
    "batch_size = 100\n",
    "train_ds = df_to_dataset(train, batch_size=batch_size)\n",
    "val_ds = df_to_dataset(val, shuffle=False, batch_size=batch_size)\n",
    "test_ds = df_to_dataset(test, shuffle=False, batch_size=batch_size)"
   ]
  },
  {
   "cell_type": "code",
   "execution_count": 12,
   "metadata": {},
   "outputs": [
    {
     "data": {
      "text/plain": [
       "({'summary': TensorSpec(shape=(None, 1), dtype=tf.string, name=None),\n",
       "  'title': TensorSpec(shape=(None, 1), dtype=tf.string, name=None),\n",
       "  'sentiment': TensorSpec(shape=(None, 1), dtype=tf.int64, name=None),\n",
       "  'link': TensorSpec(shape=(None, 1), dtype=tf.string, name=None),\n",
       "  'date': TensorSpec(shape=(None, 1), dtype=tf.string, name=None),\n",
       "  'score': TensorSpec(shape=(None, 1), dtype=tf.float64, name=None)},\n",
       " TensorSpec(shape=(None,), dtype=tf.int64, name=None))"
      ]
     },
     "execution_count": 12,
     "metadata": {},
     "output_type": "execute_result"
    }
   ],
   "source": [
    "train_ds.element_spec"
   ]
  },
  {
   "cell_type": "markdown",
   "metadata": {},
   "source": [
    "# Select BERT Model"
   ]
  },
  {
   "cell_type": "code",
   "execution_count": 13,
   "metadata": {},
   "outputs": [
    {
     "name": "stdout",
     "output_type": "stream",
     "text": [
      "BERT model selected           : https://tfhub.dev/tensorflow/small_bert/bert_en_uncased_L-4_H-512_A-8/1\n",
      "Preprocess model auto-selected: https://tfhub.dev/tensorflow/bert_en_uncased_preprocess/3\n"
     ]
    }
   ],
   "source": [
    "tfhub_handle_encoder='https://tfhub.dev/tensorflow/small_bert/bert_en_uncased_L-4_H-512_A-8/1'\n",
    "tfhub_handle_preprocess = 'https://tfhub.dev/tensorflow/bert_en_uncased_preprocess/3'\n",
    "\n",
    "print(f'BERT model selected           : {tfhub_handle_encoder}')\n",
    "print(f'Preprocess model auto-selected: {tfhub_handle_preprocess}')"
   ]
  },
  {
   "cell_type": "markdown",
   "metadata": {},
   "source": [
    "## Define model"
   ]
  },
  {
   "cell_type": "code",
   "execution_count": 27,
   "metadata": {},
   "outputs": [],
   "source": [
    "def build_classifier_model():\n",
    "  summary_input = tf.keras.layers.Input(shape=(), dtype=tf.string, name='summary')\n",
    "  preprocessing_layer = hub.KerasLayer(tfhub_handle_preprocess, name='preprocessing')\n",
    "  encoder_inputs = preprocessing_layer(summary_input)\n",
    "  encoder = hub.KerasLayer(tfhub_handle_encoder, trainable=True, name='BERT_encoder')\n",
    "  outputs = encoder(encoder_inputs)\n",
    "  net = outputs['pooled_output']\n",
    "  net = tf.keras.layers.Dropout(0.1)(net)\n",
    "  net = tf.keras.layers.Dense(3, name='classifier')(net)\n",
    "  return tf.keras.Model(summary_input, net)"
   ]
  },
  {
   "cell_type": "code",
   "execution_count": 28,
   "metadata": {},
   "outputs": [],
   "source": [
    "classifier_model = build_classifier_model()"
   ]
  },
  {
   "cell_type": "markdown",
   "metadata": {},
   "source": [
    "## Train model"
   ]
  },
  {
   "cell_type": "code",
   "execution_count": 29,
   "metadata": {},
   "outputs": [],
   "source": [
    "loss = tf.keras.losses.SparseCategoricalCrossentropy(from_logits=True)\n",
    "metrics = tf.metrics.SparseCategoricalAccuracy()"
   ]
  },
  {
   "cell_type": "code",
   "execution_count": 30,
   "metadata": {},
   "outputs": [],
   "source": [
    "epochs = 5\n",
    "steps_per_epoch = tf.data.experimental.cardinality(train_ds).numpy()\n",
    "num_train_steps = steps_per_epoch * epochs\n",
    "num_warmup_steps = int(0.1*num_train_steps)\n",
    "\n",
    "init_lr = 3e-5\n",
    "optimizer = optimization.create_optimizer(init_lr=init_lr,\n",
    "                                          num_train_steps=num_train_steps,\n",
    "                                          num_warmup_steps=num_warmup_steps,\n",
    "                                          optimizer_type='adamw')"
   ]
  },
  {
   "cell_type": "code",
   "execution_count": 31,
   "metadata": {},
   "outputs": [],
   "source": [
    "classifier_model.compile(optimizer=optimizer,\n",
    "                         loss=loss,\n",
    "                         metrics=metrics)"
   ]
  },
  {
   "cell_type": "code",
   "execution_count": 32,
   "metadata": {},
   "outputs": [
    {
     "name": "stdout",
     "output_type": "stream",
     "text": [
      "Epoch 1/5\n",
      "27/27 [==============================] - 229s 8s/step - loss: 1.1361 - sparse_categorical_accuracy: 0.4350 - val_loss: 0.9738 - val_sparse_categorical_accuracy: 0.5210\n",
      "Epoch 2/5\n",
      "27/27 [==============================] - 224s 8s/step - loss: 0.9099 - sparse_categorical_accuracy: 0.5740 - val_loss: 0.9166 - val_sparse_categorical_accuracy: 0.5629\n",
      "Epoch 3/5\n",
      "27/27 [==============================] - 230s 9s/step - loss: 0.8314 - sparse_categorical_accuracy: 0.6163 - val_loss: 0.8732 - val_sparse_categorical_accuracy: 0.5958\n",
      "Epoch 4/5\n",
      "27/27 [==============================] - 221s 8s/step - loss: 0.7704 - sparse_categorical_accuracy: 0.6605 - val_loss: 0.8525 - val_sparse_categorical_accuracy: 0.6347\n",
      "Epoch 5/5\n",
      "27/27 [==============================] - 222s 8s/step - loss: 0.7485 - sparse_categorical_accuracy: 0.6707 - val_loss: 0.8442 - val_sparse_categorical_accuracy: 0.6467\n"
     ]
    }
   ],
   "source": [
    "history = classifier_model.fit(x=train_ds,\n",
    "                               validation_data=val_ds,\n",
    "                               epochs=epochs)"
   ]
  },
  {
   "cell_type": "code",
   "execution_count": 33,
   "metadata": {},
   "outputs": [
    {
     "data": {
      "text/plain": [
       "<tf.Tensor: shape=(334, 3), dtype=float32, numpy=\n",
       "array([[0.34214526, 0.65512043, 0.71972674],\n",
       "       [0.21416602, 0.63645196, 0.6104304 ],\n",
       "       [0.9044427 , 0.14285997, 0.11771062],\n",
       "       ...,\n",
       "       [0.6932451 , 0.4979465 , 0.55039227],\n",
       "       [0.11304924, 0.43238357, 0.8950833 ],\n",
       "       [0.20967227, 0.45500425, 0.7972606 ]], dtype=float32)>"
      ]
     },
     "execution_count": 33,
     "metadata": {},
     "output_type": "execute_result"
    }
   ],
   "source": [
    "tf.sigmoid(classifier_model.predict(test_ds))"
   ]
  },
  {
   "cell_type": "code",
   "execution_count": 35,
   "metadata": {},
   "outputs": [
    {
     "name": "stdout",
     "output_type": "stream",
     "text": [
      "dict_keys(['loss', 'sparse_categorical_accuracy', 'val_loss', 'val_sparse_categorical_accuracy'])\n"
     ]
    },
    {
     "data": {
      "text/plain": [
       "<matplotlib.legend.Legend at 0x18d15a3a0>"
      ]
     },
     "execution_count": 35,
     "metadata": {},
     "output_type": "execute_result"
    },
    {
     "data": {
      "image/png": "[encoded data removed]",
      "text/plain": [
       "<Figure size 720x432 with 2 Axes>"
      ]
     },
     "metadata": {
      "needs_background": "light"
     },
     "output_type": "display_data"
    }
   ],
   "source": [
    "history_dict = history.history\n",
    "print(history_dict.keys())\n",
    "\n",
    "acc = history_dict['sparse_categorical_accuracy']\n",
    "val_acc = history_dict['val_sparse_categorical_accuracy']\n",
    "loss = history_dict['loss']\n",
    "val_loss = history_dict['val_loss']\n",
    "\n",
    "epochs = range(1, len(acc) + 1)\n",
    "fig = plt.figure(figsize=(10, 6))\n",
    "fig.tight_layout()\n",
    "\n",
    "plt.subplot(2, 1, 1)\n",
    "# r is for \"solid red line\"\n",
    "plt.plot(epochs, loss, 'r', label='Training loss')\n",
    "# b is for \"solid blue line\"\n",
    "plt.plot(epochs, val_loss, 'b', label='Validation loss')\n",
    "plt.title('Training and validation loss')\n",
    "# plt.xlabel('Epochs')\n",
    "plt.ylabel('Loss')\n",
    "plt.legend()\n",
    "\n",
    "plt.subplot(2, 1, 2)\n",
    "plt.plot(epochs, acc, 'r', label='Training acc')\n",
    "plt.plot(epochs, val_acc, 'b', label='Validation acc')\n",
    "plt.title('Training and validation accuracy')\n",
    "plt.xlabel('Epochs')\n",
    "plt.ylabel('Accuracy')\n",
    "plt.legend(loc='lower right')"
   ]
  },
  {
   "cell_type": "code",
   "execution_count": null,
   "metadata": {},
   "outputs": [],
   "source": []
  }
 ],
 "metadata": {
  "interpreter": {
   "hash": "aee8b7b246df8f9039afb4144a1f6fd8d2ca17a180786b69acc140d282b71a49"
  },
  "kernelspec": {
   "display_name": "Python 3.9.7 64-bit",
   "name": "python3"
  },
  "language_info": {
   "codemirror_mode": {
    "name": "ipython",
    "version": 3
   },
   "file_extension": ".py",
   "mimetype": "text/x-python",
   "name": "python",
   "nbconvert_exporter": "python",
   "pygments_lexer": "ipython3",
   "version": "3.9.7"
  },
  "orig_nbformat": 4
 },
 "nbformat": 4,
 "nbformat_minor": 2
}
